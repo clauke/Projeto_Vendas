{
 "cells": [
  {
   "cell_type": "markdown",
   "id": "7a5094db-ef3d-46c3-ae13-bf6f1d1b8929",
   "metadata": {},
   "source": [
    "### Carga de dados"
   ]
  },
  {
   "cell_type": "code",
   "execution_count": null,
   "id": "acd69a41-77d4-4e1b-8b70-912916859302",
   "metadata": {},
   "outputs": [],
   "source": [
    "# Importa o dataset e cria uma cópia local do mesmo"
   ]
  },
  {
   "cell_type": "code",
   "execution_count": null,
   "id": "0e53cfb1-5e42-4961-9d47-bc58d474e975",
   "metadata": {},
   "outputs": [],
   "source": [
    "import requests"
   ]
  },
  {
   "cell_type": "code",
   "execution_count": null,
   "id": "1a4e898b-5b00-4498-a13e-16d27b6f1371",
   "metadata": {},
   "outputs": [],
   "source": [
    "url = \"https://raw.githubusercontent.com/dsacademybr/Datasets/master/dataset6.csv\"\n",
    "response = requests.get(url)"
   ]
  },
  {
   "cell_type": "code",
   "execution_count": null,
   "id": "64b5b805-cd02-43e0-801b-b382edb51d1b",
   "metadata": {},
   "outputs": [],
   "source": [
    "with open(\"dataset_vendas.csv\", \"wb\") as file:\n",
    "    file.write(response.content)\n",
    "\n",
    "print(\"Download concluído!\")"
   ]
  },
  {
   "cell_type": "code",
   "execution_count": 1,
   "id": "ceecd19e-46bc-42c4-89e7-781120659ecf",
   "metadata": {},
   "outputs": [],
   "source": [
    "import pandas as pd"
   ]
  },
  {
   "cell_type": "code",
   "execution_count": 2,
   "id": "0ac003d5-576d-45fe-b91a-cf150709b23d",
   "metadata": {},
   "outputs": [],
   "source": [
    "# Cria o dataframe\n",
    "df_vendas = pd.read_csv(\"dataset_vendas.csv\")"
   ]
  },
  {
   "cell_type": "markdown",
   "id": "3e8aec71-f739-40a1-bde7-a0ff0a2b7c0f",
   "metadata": {},
   "source": [
    "### Limpeza e Transformação"
   ]
  },
  {
   "cell_type": "code",
   "execution_count": null,
   "id": "c555e27b-5767-46a5-a15e-aa8f995cff45",
   "metadata": {},
   "outputs": [],
   "source": [
    "df_vendas.shape"
   ]
  },
  {
   "cell_type": "code",
   "execution_count": null,
   "id": "3b883d93-9b89-45e9-98d2-d3156688f4b8",
   "metadata": {},
   "outputs": [],
   "source": [
    "df_vendas.dtypes"
   ]
  },
  {
   "cell_type": "code",
   "execution_count": 3,
   "id": "0029a48f-67ce-49f9-8947-6f3fdd584dd0",
   "metadata": {},
   "outputs": [],
   "source": [
    "df_vendas.columns = df_vendas.columns.str.replace(' ', '').str.replace('-', '')"
   ]
  },
  {
   "cell_type": "code",
   "execution_count": null,
   "id": "0f3200bd-c52b-4731-8f26-b86ffc2b18d7",
   "metadata": {},
   "outputs": [],
   "source": [
    "df_vendas.columns"
   ]
  },
  {
   "cell_type": "code",
   "execution_count": 4,
   "id": "507a39b4-9dd5-4fa5-bb53-bb8886347435",
   "metadata": {},
   "outputs": [],
   "source": [
    "# Altera tipos de colunas de data\n",
    "df_vendas['OrderDate'] = pd.to_datetime(df_vendas['OrderDate'])\n",
    "df_vendas['ShipDate'] = pd.to_datetime(df_vendas['ShipDate'])"
   ]
  },
  {
   "cell_type": "markdown",
   "id": "5bcda6a0-e03c-4846-af08-01769151b68d",
   "metadata": {},
   "source": [
    "#### Preenchendo valores NA"
   ]
  },
  {
   "cell_type": "code",
   "execution_count": 5,
   "id": "4b1ba07f-5e24-47b9-a564-3de83a8c71db",
   "metadata": {},
   "outputs": [
    {
     "name": "stdout",
     "output_type": "stream",
     "text": [
      "RowID           0\n",
      "OrderID         0\n",
      "OrderDate       0\n",
      "ShipDate        0\n",
      "ShipMode        0\n",
      "CustomerID      0\n",
      "CustomerName    0\n",
      "Segment         0\n",
      "Country         0\n",
      "City            0\n",
      "State           0\n",
      "PostalCode      0\n",
      "Region          0\n",
      "ProductID       0\n",
      "Category        0\n",
      "SubCategory     0\n",
      "ProductName     0\n",
      "Sales           0\n",
      "Quantity        4\n",
      "Discount        0\n",
      "Profit          0\n",
      "dtype: int64\n"
     ]
    }
   ],
   "source": [
    "# Verifica a existência de nulos\n",
    "print(df_vendas.isna().sum())"
   ]
  },
  {
   "cell_type": "code",
   "execution_count": 6,
   "id": "b15ba710-fc65-48db-8872-b4d2d1eca9bd",
   "metadata": {},
   "outputs": [
    {
     "name": "stdout",
     "output_type": "stream",
     "text": [
      "3.0\n"
     ]
    }
   ],
   "source": [
    "# Usa a 'moda' para preencher NA's da coluna Quantity\n",
    "moda = df_vendas['Quantity'].value_counts().index[0]\n",
    "print(moda)\n",
    "df_vendas['Quantity'].fillna(value = moda, inplace=True)"
   ]
  },
  {
   "cell_type": "code",
   "execution_count": 7,
   "id": "6a161d46-f669-473e-a666-cb1f44ffd106",
   "metadata": {},
   "outputs": [],
   "source": [
    "# Altera o tipo da coluna para inteiro\n",
    "df_vendas['Quantity'] = df_vendas['Quantity'].astype(int)"
   ]
  },
  {
   "cell_type": "code",
   "execution_count": null,
   "id": "a0eeb925-c99f-4245-b588-780545372ce1",
   "metadata": {},
   "outputs": [],
   "source": [
    "# Checa os valores mínimo e máximo da coluna Sales\n",
    "df_vendas.Sales.describe()"
   ]
  },
  {
   "cell_type": "markdown",
   "id": "df05f8a2-2311-4385-a1c7-570f98b0a630",
   "metadata": {},
   "source": [
    "#### Consultas e Filtros"
   ]
  },
  {
   "cell_type": "code",
   "execution_count": null,
   "id": "6d5da54d-274e-4cac-8f89-bf235676052c",
   "metadata": {},
   "outputs": [],
   "source": [
    "# Consulta as vendas entre 10000 e 12000\n",
    "df2 = df_vendas.query('10000 < Sales < 12000')"
   ]
  },
  {
   "cell_type": "code",
   "execution_count": null,
   "id": "feace714-a497-4e5a-80ae-d5c80dc70d88",
   "metadata": {},
   "outputs": [],
   "source": [
    "df2.shape"
   ]
  },
  {
   "cell_type": "code",
   "execution_count": null,
   "id": "e9a1ce5b-4527-434d-9839-4d5ae6f8c64c",
   "metadata": {},
   "outputs": [],
   "source": [
    "df2.Sales.describe()"
   ]
  },
  {
   "cell_type": "code",
   "execution_count": 8,
   "id": "eac88235-12e8-40fa-a36a-32d1c03379f0",
   "metadata": {},
   "outputs": [
    {
     "data": {
      "text/html": [
       "<div>\n",
       "<style scoped>\n",
       "    .dataframe tbody tr th:only-of-type {\n",
       "        vertical-align: middle;\n",
       "    }\n",
       "\n",
       "    .dataframe tbody tr th {\n",
       "        vertical-align: top;\n",
       "    }\n",
       "\n",
       "    .dataframe thead th {\n",
       "        text-align: right;\n",
       "    }\n",
       "</style>\n",
       "<table border=\"1\" class=\"dataframe\">\n",
       "  <thead>\n",
       "    <tr style=\"text-align: right;\">\n",
       "      <th></th>\n",
       "      <th>RowID</th>\n",
       "      <th>OrderID</th>\n",
       "      <th>OrderDate</th>\n",
       "      <th>ShipDate</th>\n",
       "      <th>ShipMode</th>\n",
       "      <th>CustomerID</th>\n",
       "      <th>CustomerName</th>\n",
       "      <th>Segment</th>\n",
       "      <th>Country</th>\n",
       "      <th>City</th>\n",
       "      <th>...</th>\n",
       "      <th>PostalCode</th>\n",
       "      <th>Region</th>\n",
       "      <th>ProductID</th>\n",
       "      <th>Category</th>\n",
       "      <th>SubCategory</th>\n",
       "      <th>ProductName</th>\n",
       "      <th>Sales</th>\n",
       "      <th>Quantity</th>\n",
       "      <th>Discount</th>\n",
       "      <th>Profit</th>\n",
       "    </tr>\n",
       "  </thead>\n",
       "  <tbody>\n",
       "    <tr>\n",
       "      <th>3</th>\n",
       "      <td>4</td>\n",
       "      <td>US-2015-108966</td>\n",
       "      <td>2015-10-11</td>\n",
       "      <td>2015-10-18</td>\n",
       "      <td>Standard Class</td>\n",
       "      <td>SO-20335</td>\n",
       "      <td>Sean O'Donnell</td>\n",
       "      <td>Consumer</td>\n",
       "      <td>United States</td>\n",
       "      <td>Fort Lauderdale</td>\n",
       "      <td>...</td>\n",
       "      <td>33311</td>\n",
       "      <td>South</td>\n",
       "      <td>FUR-TA-10000577</td>\n",
       "      <td>Furniture</td>\n",
       "      <td>Tables</td>\n",
       "      <td>Bretford CR4500 Series Slim Rectangular Table</td>\n",
       "      <td>957.5775</td>\n",
       "      <td>5</td>\n",
       "      <td>0.45</td>\n",
       "      <td>-383.0310</td>\n",
       "    </tr>\n",
       "    <tr>\n",
       "      <th>5</th>\n",
       "      <td>6</td>\n",
       "      <td>CA-2014-115812</td>\n",
       "      <td>2014-06-09</td>\n",
       "      <td>2014-06-14</td>\n",
       "      <td>Standard Class</td>\n",
       "      <td>BH-11710</td>\n",
       "      <td>Brosina Hoffman</td>\n",
       "      <td>Consumer</td>\n",
       "      <td>United States</td>\n",
       "      <td>Los Angeles</td>\n",
       "      <td>...</td>\n",
       "      <td>90032</td>\n",
       "      <td>West</td>\n",
       "      <td>FUR-FU-10001487</td>\n",
       "      <td>Furniture</td>\n",
       "      <td>Furnishings</td>\n",
       "      <td>Eldon Expressions Wood and Plastic Desk Access...</td>\n",
       "      <td>48.8600</td>\n",
       "      <td>7</td>\n",
       "      <td>0.00</td>\n",
       "      <td>14.1694</td>\n",
       "    </tr>\n",
       "    <tr>\n",
       "      <th>9</th>\n",
       "      <td>10</td>\n",
       "      <td>CA-2014-115812</td>\n",
       "      <td>2014-06-09</td>\n",
       "      <td>2014-06-14</td>\n",
       "      <td>Standard Class</td>\n",
       "      <td>BH-11710</td>\n",
       "      <td>Brosina Hoffman</td>\n",
       "      <td>Consumer</td>\n",
       "      <td>United States</td>\n",
       "      <td>Los Angeles</td>\n",
       "      <td>...</td>\n",
       "      <td>90032</td>\n",
       "      <td>West</td>\n",
       "      <td>OFF-AP-10002892</td>\n",
       "      <td>Office Supplies</td>\n",
       "      <td>Appliances</td>\n",
       "      <td>Belkin F5C206VTEL 6 Outlet Surge</td>\n",
       "      <td>114.9000</td>\n",
       "      <td>5</td>\n",
       "      <td>0.00</td>\n",
       "      <td>34.4700</td>\n",
       "    </tr>\n",
       "    <tr>\n",
       "      <th>10</th>\n",
       "      <td>11</td>\n",
       "      <td>CA-2014-115812</td>\n",
       "      <td>2014-06-09</td>\n",
       "      <td>2014-06-14</td>\n",
       "      <td>Standard Class</td>\n",
       "      <td>BH-11710</td>\n",
       "      <td>Brosina Hoffman</td>\n",
       "      <td>Consumer</td>\n",
       "      <td>United States</td>\n",
       "      <td>Los Angeles</td>\n",
       "      <td>...</td>\n",
       "      <td>90032</td>\n",
       "      <td>West</td>\n",
       "      <td>FUR-TA-10001539</td>\n",
       "      <td>Furniture</td>\n",
       "      <td>Tables</td>\n",
       "      <td>Chromcraft Rectangular Conference Tables</td>\n",
       "      <td>1706.1840</td>\n",
       "      <td>9</td>\n",
       "      <td>0.20</td>\n",
       "      <td>85.3092</td>\n",
       "    </tr>\n",
       "    <tr>\n",
       "      <th>14</th>\n",
       "      <td>15</td>\n",
       "      <td>US-2015-118983</td>\n",
       "      <td>2015-11-22</td>\n",
       "      <td>2015-11-26</td>\n",
       "      <td>Standard Class</td>\n",
       "      <td>HP-14815</td>\n",
       "      <td>Harold Pawlan</td>\n",
       "      <td>Home Office</td>\n",
       "      <td>United States</td>\n",
       "      <td>Fort Worth</td>\n",
       "      <td>...</td>\n",
       "      <td>76106</td>\n",
       "      <td>Central</td>\n",
       "      <td>OFF-AP-10002311</td>\n",
       "      <td>Office Supplies</td>\n",
       "      <td>Appliances</td>\n",
       "      <td>Holmes Replacement Filter for HEPA Air Cleaner...</td>\n",
       "      <td>68.8100</td>\n",
       "      <td>5</td>\n",
       "      <td>0.80</td>\n",
       "      <td>-123.8580</td>\n",
       "    </tr>\n",
       "    <tr>\n",
       "      <th>...</th>\n",
       "      <td>...</td>\n",
       "      <td>...</td>\n",
       "      <td>...</td>\n",
       "      <td>...</td>\n",
       "      <td>...</td>\n",
       "      <td>...</td>\n",
       "      <td>...</td>\n",
       "      <td>...</td>\n",
       "      <td>...</td>\n",
       "      <td>...</td>\n",
       "      <td>...</td>\n",
       "      <td>...</td>\n",
       "      <td>...</td>\n",
       "      <td>...</td>\n",
       "      <td>...</td>\n",
       "      <td>...</td>\n",
       "      <td>...</td>\n",
       "      <td>...</td>\n",
       "      <td>...</td>\n",
       "      <td>...</td>\n",
       "      <td>...</td>\n",
       "    </tr>\n",
       "    <tr>\n",
       "      <th>9974</th>\n",
       "      <td>9975</td>\n",
       "      <td>US-2016-103674</td>\n",
       "      <td>2016-12-06</td>\n",
       "      <td>2016-12-10</td>\n",
       "      <td>Standard Class</td>\n",
       "      <td>AP-10720</td>\n",
       "      <td>Anne Pryor</td>\n",
       "      <td>Home Office</td>\n",
       "      <td>United States</td>\n",
       "      <td>Los Angeles</td>\n",
       "      <td>...</td>\n",
       "      <td>90032</td>\n",
       "      <td>West</td>\n",
       "      <td>OFF-AR-10004752</td>\n",
       "      <td>Office Supplies</td>\n",
       "      <td>Art</td>\n",
       "      <td>Blackstonian Pencils</td>\n",
       "      <td>18.6900</td>\n",
       "      <td>7</td>\n",
       "      <td>0.00</td>\n",
       "      <td>5.2332</td>\n",
       "    </tr>\n",
       "    <tr>\n",
       "      <th>9977</th>\n",
       "      <td>9978</td>\n",
       "      <td>US-2016-103674</td>\n",
       "      <td>2016-12-06</td>\n",
       "      <td>2016-12-10</td>\n",
       "      <td>Standard Class</td>\n",
       "      <td>AP-10720</td>\n",
       "      <td>Anne Pryor</td>\n",
       "      <td>Home Office</td>\n",
       "      <td>United States</td>\n",
       "      <td>Los Angeles</td>\n",
       "      <td>...</td>\n",
       "      <td>90032</td>\n",
       "      <td>West</td>\n",
       "      <td>OFF-FA-10003467</td>\n",
       "      <td>Office Supplies</td>\n",
       "      <td>Fasteners</td>\n",
       "      <td>Alliance Big Bands Rubber Bands, 12/Pack</td>\n",
       "      <td>13.8600</td>\n",
       "      <td>7</td>\n",
       "      <td>0.00</td>\n",
       "      <td>0.0000</td>\n",
       "    </tr>\n",
       "    <tr>\n",
       "      <th>9981</th>\n",
       "      <td>9982</td>\n",
       "      <td>CA-2017-163566</td>\n",
       "      <td>2017-08-03</td>\n",
       "      <td>2017-08-06</td>\n",
       "      <td>First Class</td>\n",
       "      <td>TB-21055</td>\n",
       "      <td>Ted Butterfield</td>\n",
       "      <td>Consumer</td>\n",
       "      <td>United States</td>\n",
       "      <td>Fairfield</td>\n",
       "      <td>...</td>\n",
       "      <td>45014</td>\n",
       "      <td>East</td>\n",
       "      <td>OFF-LA-10004484</td>\n",
       "      <td>Office Supplies</td>\n",
       "      <td>Labels</td>\n",
       "      <td>Avery 476</td>\n",
       "      <td>16.5200</td>\n",
       "      <td>5</td>\n",
       "      <td>0.20</td>\n",
       "      <td>5.3690</td>\n",
       "    </tr>\n",
       "    <tr>\n",
       "      <th>9982</th>\n",
       "      <td>9983</td>\n",
       "      <td>US-2016-157728</td>\n",
       "      <td>2016-09-22</td>\n",
       "      <td>2016-09-28</td>\n",
       "      <td>Standard Class</td>\n",
       "      <td>RC-19960</td>\n",
       "      <td>Ryan Crowe</td>\n",
       "      <td>Consumer</td>\n",
       "      <td>United States</td>\n",
       "      <td>Grand Rapids</td>\n",
       "      <td>...</td>\n",
       "      <td>49505</td>\n",
       "      <td>Central</td>\n",
       "      <td>OFF-PA-10002195</td>\n",
       "      <td>Office Supplies</td>\n",
       "      <td>Paper</td>\n",
       "      <td>RSVP Cards &amp; Envelopes, Blank White, 8-1/2\" X ...</td>\n",
       "      <td>35.5600</td>\n",
       "      <td>7</td>\n",
       "      <td>0.00</td>\n",
       "      <td>16.7132</td>\n",
       "    </tr>\n",
       "    <tr>\n",
       "      <th>9988</th>\n",
       "      <td>9989</td>\n",
       "      <td>CA-2017-163629</td>\n",
       "      <td>2017-11-17</td>\n",
       "      <td>2017-11-21</td>\n",
       "      <td>Standard Class</td>\n",
       "      <td>RA-19885</td>\n",
       "      <td>Ruben Ausman</td>\n",
       "      <td>Corporate</td>\n",
       "      <td>United States</td>\n",
       "      <td>Athens</td>\n",
       "      <td>...</td>\n",
       "      <td>30605</td>\n",
       "      <td>South</td>\n",
       "      <td>TEC-PH-10004006</td>\n",
       "      <td>Technology</td>\n",
       "      <td>Phones</td>\n",
       "      <td>Panasonic KX - TS880B Telephone</td>\n",
       "      <td>206.1000</td>\n",
       "      <td>5</td>\n",
       "      <td>0.00</td>\n",
       "      <td>55.6470</td>\n",
       "    </tr>\n",
       "  </tbody>\n",
       "</table>\n",
       "<p>2128 rows × 21 columns</p>\n",
       "</div>"
      ],
      "text/plain": [
       "      RowID         OrderID  OrderDate   ShipDate        ShipMode CustomerID  \\\n",
       "3         4  US-2015-108966 2015-10-11 2015-10-18  Standard Class   SO-20335   \n",
       "5         6  CA-2014-115812 2014-06-09 2014-06-14  Standard Class   BH-11710   \n",
       "9        10  CA-2014-115812 2014-06-09 2014-06-14  Standard Class   BH-11710   \n",
       "10       11  CA-2014-115812 2014-06-09 2014-06-14  Standard Class   BH-11710   \n",
       "14       15  US-2015-118983 2015-11-22 2015-11-26  Standard Class   HP-14815   \n",
       "...     ...             ...        ...        ...             ...        ...   \n",
       "9974   9975  US-2016-103674 2016-12-06 2016-12-10  Standard Class   AP-10720   \n",
       "9977   9978  US-2016-103674 2016-12-06 2016-12-10  Standard Class   AP-10720   \n",
       "9981   9982  CA-2017-163566 2017-08-03 2017-08-06     First Class   TB-21055   \n",
       "9982   9983  US-2016-157728 2016-09-22 2016-09-28  Standard Class   RC-19960   \n",
       "9988   9989  CA-2017-163629 2017-11-17 2017-11-21  Standard Class   RA-19885   \n",
       "\n",
       "         CustomerName      Segment        Country             City  ...  \\\n",
       "3      Sean O'Donnell     Consumer  United States  Fort Lauderdale  ...   \n",
       "5     Brosina Hoffman     Consumer  United States      Los Angeles  ...   \n",
       "9     Brosina Hoffman     Consumer  United States      Los Angeles  ...   \n",
       "10    Brosina Hoffman     Consumer  United States      Los Angeles  ...   \n",
       "14      Harold Pawlan  Home Office  United States       Fort Worth  ...   \n",
       "...               ...          ...            ...              ...  ...   \n",
       "9974       Anne Pryor  Home Office  United States      Los Angeles  ...   \n",
       "9977       Anne Pryor  Home Office  United States      Los Angeles  ...   \n",
       "9981  Ted Butterfield     Consumer  United States        Fairfield  ...   \n",
       "9982       Ryan Crowe     Consumer  United States     Grand Rapids  ...   \n",
       "9988     Ruben Ausman    Corporate  United States           Athens  ...   \n",
       "\n",
       "     PostalCode   Region        ProductID         Category  SubCategory  \\\n",
       "3         33311    South  FUR-TA-10000577        Furniture       Tables   \n",
       "5         90032     West  FUR-FU-10001487        Furniture  Furnishings   \n",
       "9         90032     West  OFF-AP-10002892  Office Supplies   Appliances   \n",
       "10        90032     West  FUR-TA-10001539        Furniture       Tables   \n",
       "14        76106  Central  OFF-AP-10002311  Office Supplies   Appliances   \n",
       "...         ...      ...              ...              ...          ...   \n",
       "9974      90032     West  OFF-AR-10004752  Office Supplies          Art   \n",
       "9977      90032     West  OFF-FA-10003467  Office Supplies    Fasteners   \n",
       "9981      45014     East  OFF-LA-10004484  Office Supplies       Labels   \n",
       "9982      49505  Central  OFF-PA-10002195  Office Supplies        Paper   \n",
       "9988      30605    South  TEC-PH-10004006       Technology       Phones   \n",
       "\n",
       "                                            ProductName      Sales  Quantity  \\\n",
       "3         Bretford CR4500 Series Slim Rectangular Table   957.5775         5   \n",
       "5     Eldon Expressions Wood and Plastic Desk Access...    48.8600         7   \n",
       "9                      Belkin F5C206VTEL 6 Outlet Surge   114.9000         5   \n",
       "10             Chromcraft Rectangular Conference Tables  1706.1840         9   \n",
       "14    Holmes Replacement Filter for HEPA Air Cleaner...    68.8100         5   \n",
       "...                                                 ...        ...       ...   \n",
       "9974                               Blackstonian Pencils    18.6900         7   \n",
       "9977           Alliance Big Bands Rubber Bands, 12/Pack    13.8600         7   \n",
       "9981                                          Avery 476    16.5200         5   \n",
       "9982  RSVP Cards & Envelopes, Blank White, 8-1/2\" X ...    35.5600         7   \n",
       "9988                    Panasonic KX - TS880B Telephone   206.1000         5   \n",
       "\n",
       "      Discount    Profit  \n",
       "3         0.45 -383.0310  \n",
       "5         0.00   14.1694  \n",
       "9         0.00   34.4700  \n",
       "10        0.20   85.3092  \n",
       "14        0.80 -123.8580  \n",
       "...        ...       ...  \n",
       "9974      0.00    5.2332  \n",
       "9977      0.00    0.0000  \n",
       "9981      0.20    5.3690  \n",
       "9982      0.00   16.7132  \n",
       "9988      0.00   55.6470  \n",
       "\n",
       "[2128 rows x 21 columns]"
      ]
     },
     "execution_count": 8,
     "metadata": {},
     "output_type": "execute_result"
    }
   ],
   "source": [
    "# Filtra a ocorrência dos valores 5, 7, 9 ou 11 na coluna 'Quantity'\n",
    "df_vendas[df_vendas['Quantity'].isin([5, 7, 9, 11])]"
   ]
  },
  {
   "cell_type": "code",
   "execution_count": null,
   "id": "b757d1f8-6860-45e1-924d-2111ab432a0d",
   "metadata": {},
   "outputs": [],
   "source": [
    "# Filtro anterior retornando apenas 10 linhas\n",
    "df_vendas[df_vendas['Quantity'].isin([5, 7, 9, 11])][:10]"
   ]
  },
  {
   "cell_type": "code",
   "execution_count": null,
   "id": "c7ad7275-e679-47e3-bcdb-a1b7650f2034",
   "metadata": {},
   "outputs": [],
   "source": [
    "# Filtro com operador lógico AND\n",
    "df_vendas[(df_vendas.Segment == 'Home Office') & (df_vendas.Region == 'South')]"
   ]
  },
  {
   "cell_type": "code",
   "execution_count": null,
   "id": "a7ef92c6-c010-4388-8f84-6bb7e99f836d",
   "metadata": {},
   "outputs": [],
   "source": [
    "# Filtro com operador lógico OR\n",
    "df_vendas[(df_vendas.Segment == 'Home Office') | (df_vendas.Region == 'South')]"
   ]
  },
  {
   "cell_type": "code",
   "execution_count": null,
   "id": "833dc846-b9d2-4c0e-bcc2-0ab6d99461b1",
   "metadata": {},
   "outputs": [],
   "source": [
    "# Filtro com operador lógico de negação\n",
    "df_vendas[(df_vendas.Segment != 'Home Office') & (df_vendas.Region != 'South')]"
   ]
  },
  {
   "cell_type": "markdown",
   "id": "2a5a2dab-40c2-4283-a73d-19f042cc746e",
   "metadata": {},
   "source": [
    "### Sumarização de Dados"
   ]
  },
  {
   "cell_type": "markdown",
   "id": "0bb4c18c-8408-419b-995c-615d9ef9576a",
   "metadata": {},
   "source": [
    "#### Usando GROUP BY e AGG"
   ]
  },
  {
   "cell_type": "code",
   "execution_count": null,
   "id": "3c7b6bdb-c44f-489c-b12d-52a68c048640",
   "metadata": {},
   "outputs": [],
   "source": [
    "# Retorna a média de vendas por 'segment' e 'region'\n",
    "df_vendas[['Segment', 'Region', 'Sales']].groupby(['Segment', 'Region']).mean()"
   ]
  },
  {
   "cell_type": "code",
   "execution_count": null,
   "id": "7e3172b1-bc80-4efa-9338-39a44adc0763",
   "metadata": {},
   "outputs": [],
   "source": [
    "# Combina GROUP BY com AGG (agregação múltipla)\n",
    "df_vendas[['Segment', 'Region', 'Sales']].groupby(['Segment', 'Region']).agg(['mean', 'std', 'count'])"
   ]
  },
  {
   "cell_type": "code",
   "execution_count": null,
   "id": "5136fe84-9d6a-4b4b-9928-b544117da4c0",
   "metadata": {},
   "outputs": [],
   "source": [
    "# Agregações diferentes por coluna específica\n",
    "df_vendas[['Region', 'Sales', 'Quantity']].groupby(['Region']).agg({'Sales': 'mean', 'Quantity':'sum'})"
   ]
  },
  {
   "cell_type": "markdown",
   "id": "ab2a6c78-f687-4450-a585-565212641e63",
   "metadata": {},
   "source": [
    "### Criando Novas Colunas"
   ]
  },
  {
   "cell_type": "code",
   "execution_count": 9,
   "id": "f056b0f7-d6fd-47df-815c-818bc538ad5e",
   "metadata": {},
   "outputs": [],
   "source": [
    "# Cria a coluna LeadTime (tempo de envio)\n",
    "df_vendas['LeadTime'] = (df_vendas['ShipDate'] - df_vendas['OrderDate']).dt.days"
   ]
  },
  {
   "cell_type": "code",
   "execution_count": null,
   "id": "0f03fd4e-4be9-49ae-9d7a-34e4ac033531",
   "metadata": {},
   "outputs": [],
   "source": [
    "df_vendas.head(3)"
   ]
  },
  {
   "cell_type": "code",
   "execution_count": 10,
   "id": "7d797982-c8f3-4a59-b473-02e5bffc16ce",
   "metadata": {},
   "outputs": [],
   "source": [
    "# Cria a coluna FxSales (faixas de valores)\n",
    "bins = [df_vendas['Sales'].min(), 17.28, 54.49, 209.94, df_vendas['Sales'].max()]\n",
    "labels = ['Baixo', 'Médio', 'Alto', 'Muito Alto']\n",
    "\n",
    "df_vendas['FxSales'] = pd.cut(df_vendas['Sales'], bins=bins, labels=labels)"
   ]
  },
  {
   "cell_type": "code",
   "execution_count": null,
   "id": "f78c8b71-1b48-4965-b990-bdab2ef8c3a9",
   "metadata": {},
   "outputs": [],
   "source": [
    "df_vendas.head(3)"
   ]
  },
  {
   "cell_type": "markdown",
   "id": "3748cbcf-6491-4f65-b48a-7b2c94cb72c0",
   "metadata": {},
   "source": [
    "### Análise de Outliers"
   ]
  },
  {
   "cell_type": "code",
   "execution_count": null,
   "id": "1171bb64-d4d5-4152-b75c-1f7b173253b8",
   "metadata": {},
   "outputs": [],
   "source": [
    "# Usando o IQR (Intervalo Interquartil)\n",
    "Q1 = df_vendas['Sales'].quantile(0.25)\n",
    "Q3 = df_vendas['Sales'].quantile(0.75)\n",
    "IQR = Q3 - Q1\n",
    "lim_inf = Q1 - 1.5 * IQR\n",
    "lim_sup = Q3 + 1.5 * IQR\n",
    "\n",
    "outliers = df_vendas[(df_vendas['Sales'] < lim_inf) | (df_vendas['Sales'] > lim_sup)]\n",
    "cols_outliers = ['OrderID', 'Segment', 'Sales', 'Quantity', 'Profit']\n",
    "print(outliers[cols_outliers])"
   ]
  },
  {
   "cell_type": "code",
   "execution_count": null,
   "id": "c96bb67d-4be7-4337-acca-152f18b44b27",
   "metadata": {},
   "outputs": [],
   "source": [
    "# Usando boxplot\n",
    "import seaborn as sns\n",
    "import matplotlib.pyplot as plt\n",
    "\n",
    "plt.figure(figsize=(10, 5))\n",
    "sns.boxplot(x = df_vendas['Sales'])\n",
    "plt.show()"
   ]
  },
  {
   "cell_type": "markdown",
   "id": "fab8ec64-a8bd-4f97-8dc6-3471460cd7d1",
   "metadata": {},
   "source": [
    "### Rankings e Top N"
   ]
  },
  {
   "cell_type": "code",
   "execution_count": null,
   "id": "a09f4dc4-e6c3-4534-ac30-a2945661c258",
   "metadata": {},
   "outputs": [],
   "source": [
    "# Retorna os 10 produtos mais vendidos (em quantidade)\n",
    "top_produtos = df_vendas.groupby('ProductName')['Quantity'].sum().nlargest(10)\n",
    "print(top_produtos)"
   ]
  },
  {
   "cell_type": "code",
   "execution_count": null,
   "id": "f67f5684-75a6-4109-8659-c708a666b3ee",
   "metadata": {},
   "outputs": [],
   "source": [
    "# Retorna os 10 clientes que dão maior lucro\n",
    "top_clientes = df_vendas.groupby('CustomerName')['Profit'].sum().nlargest(10)\n",
    "print(top_clientes)"
   ]
  },
  {
   "cell_type": "markdown",
   "id": "1d36ec9e-fba0-48dc-b7ae-9153e0423df7",
   "metadata": {},
   "source": [
    "### Análise Temporal"
   ]
  },
  {
   "cell_type": "code",
   "execution_count": 11,
   "id": "324d6d2f-7649-4278-a773-7d381b2e25c4",
   "metadata": {},
   "outputs": [
    {
     "name": "stdout",
     "output_type": "stream",
     "text": [
      "AnoMes\n",
      "2014-01     14236.8950\n",
      "2014-02      4519.8920\n",
      "2014-03     55691.0090\n",
      "2014-04     28295.3450\n",
      "2014-05     23648.2870\n",
      "2014-06     34595.1276\n",
      "2014-07     33946.3930\n",
      "2014-08     27909.4685\n",
      "2014-09     81777.3508\n",
      "2014-10     31453.3930\n",
      "2014-11     78628.7167\n",
      "2014-12     69545.6205\n",
      "2015-01     18174.0756\n",
      "2015-02     11951.4110\n",
      "2015-03     38726.2520\n",
      "2015-04     34195.2085\n",
      "2015-05     30131.6865\n",
      "2015-06     24797.2920\n",
      "2015-07     28765.3250\n",
      "2015-08     36898.3322\n",
      "2015-09     64595.9180\n",
      "2015-10     31404.9235\n",
      "2015-11     75972.5635\n",
      "2015-12     74919.5212\n",
      "2016-01     18542.4910\n",
      "2016-02     22978.8150\n",
      "2016-03     51715.8750\n",
      "2016-04     38750.0390\n",
      "2016-05     56987.7280\n",
      "2016-06     40344.5340\n",
      "2016-07     39261.9630\n",
      "2016-08     31115.3743\n",
      "2016-09     73410.0249\n",
      "2016-10     59687.7450\n",
      "2016-11     79411.9658\n",
      "2016-12     96999.0430\n",
      "2017-01     43971.3740\n",
      "2017-02     20301.1334\n",
      "2017-03     58872.3528\n",
      "2017-04     36521.5361\n",
      "2017-05     44261.1102\n",
      "2017-06     52981.7257\n",
      "2017-07     45264.4160\n",
      "2017-08     63120.8880\n",
      "2017-09     87866.6520\n",
      "2017-10     77776.9232\n",
      "2017-11    118447.8250\n",
      "2017-12     83829.3188\n",
      "Freq: M, Name: Sales, dtype: float64\n"
     ]
    }
   ],
   "source": [
    "# Retorna o total de vendas por mês\n",
    "df_vendas['AnoMes'] = df_vendas['OrderDate'].dt.to_period('M')\n",
    "vendas_mes = df_vendas.groupby('AnoMes')['Sales'].sum()\n",
    "print(vendas_mes)"
   ]
  },
  {
   "cell_type": "code",
   "execution_count": null,
   "id": "89f82b5c-fdba-4626-be08-786dc7cfb6b1",
   "metadata": {},
   "outputs": [],
   "source": [
    "vendas_mes.plot(kind = 'line', figsize = (12, 5), title = 'Vendas por Mês')\n",
    "plt.show()"
   ]
  },
  {
   "cell_type": "markdown",
   "id": "0dad3221-94f5-4951-ae59-5f536e6e8df2",
   "metadata": {},
   "source": [
    "### Pivot Tables"
   ]
  },
  {
   "cell_type": "code",
   "execution_count": null,
   "id": "4759c09f-6b2a-4d84-8e4e-47255bfd71cd",
   "metadata": {},
   "outputs": [],
   "source": [
    "# Substitue o uso de groupby (mais flexível)\n",
    "table_pivot = df_vendas.pivot_table(index = 'Region', columns = 'Segment', values = 'Sales', aggfunc = 'sum')\n",
    "print(table_pivot)"
   ]
  },
  {
   "cell_type": "markdown",
   "id": "50365b2c-63d2-4dd1-b3ea-296aa1f2c202",
   "metadata": {},
   "source": [
    "### KPI's e Insights"
   ]
  },
  {
   "cell_type": "code",
   "execution_count": 12,
   "id": "12f4a0d7-788f-4f59-8514-c9e9c108ee2b",
   "metadata": {},
   "outputs": [
    {
     "data": {
      "text/html": [
       "<div>\n",
       "<style scoped>\n",
       "    .dataframe tbody tr th:only-of-type {\n",
       "        vertical-align: middle;\n",
       "    }\n",
       "\n",
       "    .dataframe tbody tr th {\n",
       "        vertical-align: top;\n",
       "    }\n",
       "\n",
       "    .dataframe thead th {\n",
       "        text-align: right;\n",
       "    }\n",
       "</style>\n",
       "<table border=\"1\" class=\"dataframe\">\n",
       "  <thead>\n",
       "    <tr style=\"text-align: right;\">\n",
       "      <th></th>\n",
       "      <th>RowID</th>\n",
       "      <th>OrderID</th>\n",
       "      <th>OrderDate</th>\n",
       "      <th>ShipDate</th>\n",
       "      <th>ShipMode</th>\n",
       "      <th>CustomerID</th>\n",
       "      <th>CustomerName</th>\n",
       "      <th>Segment</th>\n",
       "      <th>Country</th>\n",
       "      <th>City</th>\n",
       "      <th>...</th>\n",
       "      <th>SubCategory</th>\n",
       "      <th>ProductName</th>\n",
       "      <th>Sales</th>\n",
       "      <th>Quantity</th>\n",
       "      <th>Discount</th>\n",
       "      <th>Profit</th>\n",
       "      <th>LeadTime</th>\n",
       "      <th>FxSales</th>\n",
       "      <th>AnoMes</th>\n",
       "      <th>MargemLucro</th>\n",
       "    </tr>\n",
       "  </thead>\n",
       "  <tbody>\n",
       "    <tr>\n",
       "      <th>0</th>\n",
       "      <td>1</td>\n",
       "      <td>CA-2016-152156</td>\n",
       "      <td>2016-11-08</td>\n",
       "      <td>2016-11-11</td>\n",
       "      <td>Second Class</td>\n",
       "      <td>CG-12520</td>\n",
       "      <td>Claire Gute</td>\n",
       "      <td>Consumer</td>\n",
       "      <td>United States</td>\n",
       "      <td>Henderson</td>\n",
       "      <td>...</td>\n",
       "      <td>Bookcases</td>\n",
       "      <td>Bush Somerset Collection Bookcase</td>\n",
       "      <td>261.96</td>\n",
       "      <td>2</td>\n",
       "      <td>0.0</td>\n",
       "      <td>41.9136</td>\n",
       "      <td>3</td>\n",
       "      <td>Muito Alto</td>\n",
       "      <td>2016-11</td>\n",
       "      <td>16.0</td>\n",
       "    </tr>\n",
       "    <tr>\n",
       "      <th>1</th>\n",
       "      <td>2</td>\n",
       "      <td>CA-2016-152156</td>\n",
       "      <td>2016-11-08</td>\n",
       "      <td>2016-11-11</td>\n",
       "      <td>Second Class</td>\n",
       "      <td>CG-12520</td>\n",
       "      <td>Claire Gute</td>\n",
       "      <td>Consumer</td>\n",
       "      <td>United States</td>\n",
       "      <td>Henderson</td>\n",
       "      <td>...</td>\n",
       "      <td>Chairs</td>\n",
       "      <td>Hon Deluxe Fabric Upholstered Stacking Chairs,...</td>\n",
       "      <td>731.94</td>\n",
       "      <td>3</td>\n",
       "      <td>0.0</td>\n",
       "      <td>219.5820</td>\n",
       "      <td>3</td>\n",
       "      <td>Muito Alto</td>\n",
       "      <td>2016-11</td>\n",
       "      <td>30.0</td>\n",
       "    </tr>\n",
       "    <tr>\n",
       "      <th>2</th>\n",
       "      <td>3</td>\n",
       "      <td>CA-2016-138688</td>\n",
       "      <td>2016-06-12</td>\n",
       "      <td>2016-06-16</td>\n",
       "      <td>Second Class</td>\n",
       "      <td>DV-13045</td>\n",
       "      <td>Darrin Van Huff</td>\n",
       "      <td>Corporate</td>\n",
       "      <td>United States</td>\n",
       "      <td>Los Angeles</td>\n",
       "      <td>...</td>\n",
       "      <td>Labels</td>\n",
       "      <td>Self-Adhesive Address Labels for Typewriters b...</td>\n",
       "      <td>14.62</td>\n",
       "      <td>2</td>\n",
       "      <td>0.0</td>\n",
       "      <td>6.8714</td>\n",
       "      <td>4</td>\n",
       "      <td>Baixo</td>\n",
       "      <td>2016-06</td>\n",
       "      <td>47.0</td>\n",
       "    </tr>\n",
       "  </tbody>\n",
       "</table>\n",
       "<p>3 rows × 25 columns</p>\n",
       "</div>"
      ],
      "text/plain": [
       "   RowID         OrderID  OrderDate   ShipDate      ShipMode CustomerID  \\\n",
       "0      1  CA-2016-152156 2016-11-08 2016-11-11  Second Class   CG-12520   \n",
       "1      2  CA-2016-152156 2016-11-08 2016-11-11  Second Class   CG-12520   \n",
       "2      3  CA-2016-138688 2016-06-12 2016-06-16  Second Class   DV-13045   \n",
       "\n",
       "      CustomerName    Segment        Country         City  ... SubCategory  \\\n",
       "0      Claire Gute   Consumer  United States    Henderson  ...   Bookcases   \n",
       "1      Claire Gute   Consumer  United States    Henderson  ...      Chairs   \n",
       "2  Darrin Van Huff  Corporate  United States  Los Angeles  ...      Labels   \n",
       "\n",
       "                                         ProductName   Sales Quantity  \\\n",
       "0                  Bush Somerset Collection Bookcase  261.96        2   \n",
       "1  Hon Deluxe Fabric Upholstered Stacking Chairs,...  731.94        3   \n",
       "2  Self-Adhesive Address Labels for Typewriters b...   14.62        2   \n",
       "\n",
       "  Discount    Profit LeadTime     FxSales   AnoMes  MargemLucro  \n",
       "0      0.0   41.9136        3  Muito Alto  2016-11         16.0  \n",
       "1      0.0  219.5820        3  Muito Alto  2016-11         30.0  \n",
       "2      0.0    6.8714        4       Baixo  2016-06         47.0  \n",
       "\n",
       "[3 rows x 25 columns]"
      ]
     },
     "execution_count": 12,
     "metadata": {},
     "output_type": "execute_result"
    }
   ],
   "source": [
    "# Calcula a margem de lucro\n",
    "df_vendas['MargemLucro'] = ((df_vendas['Profit'] / df_vendas['Sales']) * 100).round(2)\n",
    "df_vendas.head(3)"
   ]
  },
  {
   "cell_type": "code",
   "execution_count": 13,
   "id": "04e39bfe-5fbc-4061-b3eb-9b33ab1fe99c",
   "metadata": {},
   "outputs": [
    {
     "data": {
      "text/plain": [
       "Category\n",
       "Furniture          0.173923\n",
       "Office Supplies    0.157285\n",
       "Technology         0.132323\n",
       "Name: Discount, dtype: float64"
      ]
     },
     "execution_count": 13,
     "metadata": {},
     "output_type": "execute_result"
    }
   ],
   "source": [
    "# Calcula a média de desconto por Categoria\n",
    "df_vendas.groupby('Category')['Discount'].mean()"
   ]
  },
  {
   "cell_type": "code",
   "execution_count": 14,
   "id": "36f428f5-af82-4b7c-9dea-4d485bb19581",
   "metadata": {},
   "outputs": [],
   "source": [
    "df_vendas.to_csv('D:\\CURSOS\\DSA\\FCD\\Projeto_Vendas\\df_vendas_final.csv', index=False, sep=';', decimal=',', encoding='utf-8')"
   ]
  }
 ],
 "metadata": {
  "kernelspec": {
   "display_name": "Python 3 (ipykernel)",
   "language": "python",
   "name": "python3"
  },
  "language_info": {
   "codemirror_mode": {
    "name": "ipython",
    "version": 3
   },
   "file_extension": ".py",
   "mimetype": "text/x-python",
   "name": "python",
   "nbconvert_exporter": "python",
   "pygments_lexer": "ipython3",
   "version": "3.11.7"
  }
 },
 "nbformat": 4,
 "nbformat_minor": 5
}
